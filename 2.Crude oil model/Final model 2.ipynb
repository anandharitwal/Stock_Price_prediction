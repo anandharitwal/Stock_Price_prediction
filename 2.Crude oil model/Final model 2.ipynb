{
 "cells": [
  {
   "cell_type": "markdown",
   "metadata": {
    "toc": true
   },
   "source": [
    "<h1>Table of Contents<span class=\"tocSkip\"></span></h1>\n",
    "<div class=\"toc\"><ul class=\"toc-item\"><li><span><a href=\"##-Predicting-open-value-of-crude-oil-after-60-days-taking-past-data-into-account.\" data-toc-modified-id=\"#-Predicting-open-value-of-crude-oil-after-60-days-taking-past-data-into-account.-1\"><span class=\"toc-item-num\">1&nbsp;&nbsp;</span># Predicting open value of crude oil after 60 days taking past data into account.</a></span></li></ul></div>"
   ]
  },
  {
   "cell_type": "code",
   "execution_count": 1,
   "metadata": {},
   "outputs": [],
   "source": [
    "import numpy as np\n",
    "import pandas as pd\n",
    "import math\n",
    "import sklearn\n",
    "import datetime\n",
    "import os\n",
    "import matplotlib.pyplot as plt\n",
    "import tensorflow as tf\n",
    "from sklearn.preprocessing import MinMaxScaler\n",
    "\n",
    "# split data in 80%/10%/10% train/validation/test sets\n",
    "valid_set_size_percentage = 10 \n",
    "test_set_size_percentage = 10 \n"
   ]
  },
  {
   "cell_type": "markdown",
   "metadata": {},
   "source": [
    "# # Predicting open value of crude oil after 60 days taking past data into account."
   ]
  },
  {
   "cell_type": "code",
   "execution_count": 10,
   "metadata": {},
   "outputs": [],
   "source": [
    "df = pd.read_excel(r\"D:/Research project/share data/08-08-2008 to 01-07-2016/Crude data.xlsx\")"
   ]
  },
  {
   "cell_type": "code",
   "execution_count": 11,
   "metadata": {},
   "outputs": [
    {
     "data": {
      "text/html": [
       "<div>\n",
       "<style scoped>\n",
       "    .dataframe tbody tr th:only-of-type {\n",
       "        vertical-align: middle;\n",
       "    }\n",
       "\n",
       "    .dataframe tbody tr th {\n",
       "        vertical-align: top;\n",
       "    }\n",
       "\n",
       "    .dataframe thead th {\n",
       "        text-align: right;\n",
       "    }\n",
       "</style>\n",
       "<table border=\"1\" class=\"dataframe\">\n",
       "  <thead>\n",
       "    <tr style=\"text-align: right;\">\n",
       "      <th></th>\n",
       "      <th>Date</th>\n",
       "      <th>symbol</th>\n",
       "      <th>open</th>\n",
       "      <th>high</th>\n",
       "      <th>low</th>\n",
       "      <th>close</th>\n",
       "      <th>volume</th>\n",
       "    </tr>\n",
       "  </thead>\n",
       "  <tbody>\n",
       "    <tr>\n",
       "      <th>0</th>\n",
       "      <td>2008-08-08</td>\n",
       "      <td>Crude Oil</td>\n",
       "      <td>119.900002</td>\n",
       "      <td>120.080002</td>\n",
       "      <td>114.620003</td>\n",
       "      <td>115.199997</td>\n",
       "      <td>297330</td>\n",
       "    </tr>\n",
       "    <tr>\n",
       "      <th>1</th>\n",
       "      <td>2008-08-10</td>\n",
       "      <td>Crude Oil</td>\n",
       "      <td>0.000000</td>\n",
       "      <td>0.000000</td>\n",
       "      <td>0.000000</td>\n",
       "      <td>0.000000</td>\n",
       "      <td>0</td>\n",
       "    </tr>\n",
       "    <tr>\n",
       "      <th>2</th>\n",
       "      <td>2008-08-11</td>\n",
       "      <td>Crude Oil</td>\n",
       "      <td>115.199997</td>\n",
       "      <td>116.900002</td>\n",
       "      <td>112.720001</td>\n",
       "      <td>114.449997</td>\n",
       "      <td>295334</td>\n",
       "    </tr>\n",
       "    <tr>\n",
       "      <th>3</th>\n",
       "      <td>2008-08-12</td>\n",
       "      <td>Crude Oil</td>\n",
       "      <td>114.529999</td>\n",
       "      <td>115.949997</td>\n",
       "      <td>112.309998</td>\n",
       "      <td>113.010002</td>\n",
       "      <td>303791</td>\n",
       "    </tr>\n",
       "    <tr>\n",
       "      <th>4</th>\n",
       "      <td>2008-08-13</td>\n",
       "      <td>Crude Oil</td>\n",
       "      <td>113.089996</td>\n",
       "      <td>117.459999</td>\n",
       "      <td>112.870003</td>\n",
       "      <td>116.000000</td>\n",
       "      <td>322967</td>\n",
       "    </tr>\n",
       "    <tr>\n",
       "      <th>...</th>\n",
       "      <td>...</td>\n",
       "      <td>...</td>\n",
       "      <td>...</td>\n",
       "      <td>...</td>\n",
       "      <td>...</td>\n",
       "      <td>...</td>\n",
       "      <td>...</td>\n",
       "    </tr>\n",
       "    <tr>\n",
       "      <th>2398</th>\n",
       "      <td>2016-06-26</td>\n",
       "      <td>Crude Oil</td>\n",
       "      <td>0.000000</td>\n",
       "      <td>0.000000</td>\n",
       "      <td>0.000000</td>\n",
       "      <td>0.000000</td>\n",
       "      <td>0</td>\n",
       "    </tr>\n",
       "    <tr>\n",
       "      <th>2399</th>\n",
       "      <td>2016-06-27</td>\n",
       "      <td>Crude Oil</td>\n",
       "      <td>47.810001</td>\n",
       "      <td>47.959999</td>\n",
       "      <td>45.830002</td>\n",
       "      <td>46.330002</td>\n",
       "      <td>504613</td>\n",
       "    </tr>\n",
       "    <tr>\n",
       "      <th>2400</th>\n",
       "      <td>2016-06-28</td>\n",
       "      <td>Crude Oil</td>\n",
       "      <td>46.590000</td>\n",
       "      <td>48.180000</td>\n",
       "      <td>46.540001</td>\n",
       "      <td>47.849998</td>\n",
       "      <td>498851</td>\n",
       "    </tr>\n",
       "    <tr>\n",
       "      <th>2401</th>\n",
       "      <td>2016-06-29</td>\n",
       "      <td>Crude Oil</td>\n",
       "      <td>48.060001</td>\n",
       "      <td>50.000000</td>\n",
       "      <td>47.980000</td>\n",
       "      <td>49.880001</td>\n",
       "      <td>511476</td>\n",
       "    </tr>\n",
       "    <tr>\n",
       "      <th>2402</th>\n",
       "      <td>2016-06-30</td>\n",
       "      <td>Crude Oil</td>\n",
       "      <td>49.549999</td>\n",
       "      <td>49.619999</td>\n",
       "      <td>48.169998</td>\n",
       "      <td>48.330002</td>\n",
       "      <td>508736</td>\n",
       "    </tr>\n",
       "  </tbody>\n",
       "</table>\n",
       "<p>2403 rows × 7 columns</p>\n",
       "</div>"
      ],
      "text/plain": [
       "           Date     symbol        open        high         low       close  \\\n",
       "0    2008-08-08  Crude Oil  119.900002  120.080002  114.620003  115.199997   \n",
       "1    2008-08-10  Crude Oil    0.000000    0.000000    0.000000    0.000000   \n",
       "2    2008-08-11  Crude Oil  115.199997  116.900002  112.720001  114.449997   \n",
       "3    2008-08-12  Crude Oil  114.529999  115.949997  112.309998  113.010002   \n",
       "4    2008-08-13  Crude Oil  113.089996  117.459999  112.870003  116.000000   \n",
       "...         ...        ...         ...         ...         ...         ...   \n",
       "2398 2016-06-26  Crude Oil    0.000000    0.000000    0.000000    0.000000   \n",
       "2399 2016-06-27  Crude Oil   47.810001   47.959999   45.830002   46.330002   \n",
       "2400 2016-06-28  Crude Oil   46.590000   48.180000   46.540001   47.849998   \n",
       "2401 2016-06-29  Crude Oil   48.060001   50.000000   47.980000   49.880001   \n",
       "2402 2016-06-30  Crude Oil   49.549999   49.619999   48.169998   48.330002   \n",
       "\n",
       "      volume  \n",
       "0     297330  \n",
       "1          0  \n",
       "2     295334  \n",
       "3     303791  \n",
       "4     322967  \n",
       "...      ...  \n",
       "2398       0  \n",
       "2399  504613  \n",
       "2400  498851  \n",
       "2401  511476  \n",
       "2402  508736  \n",
       "\n",
       "[2403 rows x 7 columns]"
      ]
     },
     "execution_count": 11,
     "metadata": {},
     "output_type": "execute_result"
    }
   ],
   "source": [
    "df"
   ]
  },
  {
   "cell_type": "code",
   "execution_count": 12,
   "metadata": {},
   "outputs": [
    {
     "data": {
      "text/html": [
       "<div>\n",
       "<style scoped>\n",
       "    .dataframe tbody tr th:only-of-type {\n",
       "        vertical-align: middle;\n",
       "    }\n",
       "\n",
       "    .dataframe tbody tr th {\n",
       "        vertical-align: top;\n",
       "    }\n",
       "\n",
       "    .dataframe thead th {\n",
       "        text-align: right;\n",
       "    }\n",
       "</style>\n",
       "<table border=\"1\" class=\"dataframe\">\n",
       "  <thead>\n",
       "    <tr style=\"text-align: right;\">\n",
       "      <th></th>\n",
       "      <th>Date</th>\n",
       "      <th>symbol</th>\n",
       "      <th>open</th>\n",
       "      <th>high</th>\n",
       "      <th>low</th>\n",
       "      <th>close</th>\n",
       "      <th>volume</th>\n",
       "    </tr>\n",
       "  </thead>\n",
       "  <tbody>\n",
       "    <tr>\n",
       "      <th>2398</th>\n",
       "      <td>2016-06-26</td>\n",
       "      <td>Crude Oil</td>\n",
       "      <td>0.000000</td>\n",
       "      <td>0.000000</td>\n",
       "      <td>0.000000</td>\n",
       "      <td>0.000000</td>\n",
       "      <td>0</td>\n",
       "    </tr>\n",
       "    <tr>\n",
       "      <th>2399</th>\n",
       "      <td>2016-06-27</td>\n",
       "      <td>Crude Oil</td>\n",
       "      <td>47.810001</td>\n",
       "      <td>47.959999</td>\n",
       "      <td>45.830002</td>\n",
       "      <td>46.330002</td>\n",
       "      <td>504613</td>\n",
       "    </tr>\n",
       "    <tr>\n",
       "      <th>2400</th>\n",
       "      <td>2016-06-28</td>\n",
       "      <td>Crude Oil</td>\n",
       "      <td>46.590000</td>\n",
       "      <td>48.180000</td>\n",
       "      <td>46.540001</td>\n",
       "      <td>47.849998</td>\n",
       "      <td>498851</td>\n",
       "    </tr>\n",
       "    <tr>\n",
       "      <th>2401</th>\n",
       "      <td>2016-06-29</td>\n",
       "      <td>Crude Oil</td>\n",
       "      <td>48.060001</td>\n",
       "      <td>50.000000</td>\n",
       "      <td>47.980000</td>\n",
       "      <td>49.880001</td>\n",
       "      <td>511476</td>\n",
       "    </tr>\n",
       "    <tr>\n",
       "      <th>2402</th>\n",
       "      <td>2016-06-30</td>\n",
       "      <td>Crude Oil</td>\n",
       "      <td>49.549999</td>\n",
       "      <td>49.619999</td>\n",
       "      <td>48.169998</td>\n",
       "      <td>48.330002</td>\n",
       "      <td>508736</td>\n",
       "    </tr>\n",
       "  </tbody>\n",
       "</table>\n",
       "</div>"
      ],
      "text/plain": [
       "           Date     symbol       open       high        low      close  volume\n",
       "2398 2016-06-26  Crude Oil   0.000000   0.000000   0.000000   0.000000       0\n",
       "2399 2016-06-27  Crude Oil  47.810001  47.959999  45.830002  46.330002  504613\n",
       "2400 2016-06-28  Crude Oil  46.590000  48.180000  46.540001  47.849998  498851\n",
       "2401 2016-06-29  Crude Oil  48.060001  50.000000  47.980000  49.880001  511476\n",
       "2402 2016-06-30  Crude Oil  49.549999  49.619999  48.169998  48.330002  508736"
      ]
     },
     "execution_count": 12,
     "metadata": {},
     "output_type": "execute_result"
    }
   ],
   "source": [
    "df.tail()"
   ]
  },
  {
   "cell_type": "code",
   "execution_count": 13,
   "metadata": {},
   "outputs": [
    {
     "data": {
      "text/html": [
       "<div>\n",
       "<style scoped>\n",
       "    .dataframe tbody tr th:only-of-type {\n",
       "        vertical-align: middle;\n",
       "    }\n",
       "\n",
       "    .dataframe tbody tr th {\n",
       "        vertical-align: top;\n",
       "    }\n",
       "\n",
       "    .dataframe thead th {\n",
       "        text-align: right;\n",
       "    }\n",
       "</style>\n",
       "<table border=\"1\" class=\"dataframe\">\n",
       "  <thead>\n",
       "    <tr style=\"text-align: right;\">\n",
       "      <th></th>\n",
       "      <th>open</th>\n",
       "      <th>high</th>\n",
       "      <th>low</th>\n",
       "      <th>close</th>\n",
       "      <th>volume</th>\n",
       "    </tr>\n",
       "  </thead>\n",
       "  <tbody>\n",
       "    <tr>\n",
       "      <th>count</th>\n",
       "      <td>2403.000000</td>\n",
       "      <td>2403.000000</td>\n",
       "      <td>2403.000000</td>\n",
       "      <td>2403.000000</td>\n",
       "      <td>2403.000000</td>\n",
       "    </tr>\n",
       "    <tr>\n",
       "      <th>mean</th>\n",
       "      <td>64.610487</td>\n",
       "      <td>65.527095</td>\n",
       "      <td>63.577595</td>\n",
       "      <td>64.571573</td>\n",
       "      <td>254182.442780</td>\n",
       "    </tr>\n",
       "    <tr>\n",
       "      <th>std</th>\n",
       "      <td>36.343200</td>\n",
       "      <td>36.686851</td>\n",
       "      <td>35.935104</td>\n",
       "      <td>36.337536</td>\n",
       "      <td>161220.720416</td>\n",
       "    </tr>\n",
       "    <tr>\n",
       "      <th>min</th>\n",
       "      <td>0.000000</td>\n",
       "      <td>0.000000</td>\n",
       "      <td>0.000000</td>\n",
       "      <td>0.000000</td>\n",
       "      <td>0.000000</td>\n",
       "    </tr>\n",
       "    <tr>\n",
       "      <th>25%</th>\n",
       "      <td>43.510001</td>\n",
       "      <td>44.774999</td>\n",
       "      <td>42.055000</td>\n",
       "      <td>43.449999</td>\n",
       "      <td>175216.500000</td>\n",
       "    </tr>\n",
       "    <tr>\n",
       "      <th>50%</th>\n",
       "      <td>77.059998</td>\n",
       "      <td>78.040001</td>\n",
       "      <td>75.660004</td>\n",
       "      <td>77.000000</td>\n",
       "      <td>266350.000000</td>\n",
       "    </tr>\n",
       "    <tr>\n",
       "      <th>75%</th>\n",
       "      <td>94.715000</td>\n",
       "      <td>95.744999</td>\n",
       "      <td>93.625000</td>\n",
       "      <td>94.790001</td>\n",
       "      <td>340900.000000</td>\n",
       "    </tr>\n",
       "    <tr>\n",
       "      <th>max</th>\n",
       "      <td>121.550003</td>\n",
       "      <td>130.000000</td>\n",
       "      <td>115.639999</td>\n",
       "      <td>121.180000</td>\n",
       "      <td>869957.000000</td>\n",
       "    </tr>\n",
       "  </tbody>\n",
       "</table>\n",
       "</div>"
      ],
      "text/plain": [
       "              open         high          low        close         volume\n",
       "count  2403.000000  2403.000000  2403.000000  2403.000000    2403.000000\n",
       "mean     64.610487    65.527095    63.577595    64.571573  254182.442780\n",
       "std      36.343200    36.686851    35.935104    36.337536  161220.720416\n",
       "min       0.000000     0.000000     0.000000     0.000000       0.000000\n",
       "25%      43.510001    44.774999    42.055000    43.449999  175216.500000\n",
       "50%      77.059998    78.040001    75.660004    77.000000  266350.000000\n",
       "75%      94.715000    95.744999    93.625000    94.790001  340900.000000\n",
       "max     121.550003   130.000000   115.639999   121.180000  869957.000000"
      ]
     },
     "execution_count": 13,
     "metadata": {},
     "output_type": "execute_result"
    }
   ],
   "source": [
    "df.describe()\n"
   ]
  },
  {
   "cell_type": "code",
   "execution_count": 14,
   "metadata": {},
   "outputs": [
    {
     "name": "stdout",
     "output_type": "stream",
     "text": [
      "<class 'pandas.core.frame.DataFrame'>\n",
      "RangeIndex: 2403 entries, 0 to 2402\n",
      "Data columns (total 7 columns):\n",
      " #   Column  Non-Null Count  Dtype         \n",
      "---  ------  --------------  -----         \n",
      " 0   Date    2403 non-null   datetime64[ns]\n",
      " 1   symbol  2403 non-null   object        \n",
      " 2   open    2403 non-null   float64       \n",
      " 3   high    2403 non-null   float64       \n",
      " 4   low     2403 non-null   float64       \n",
      " 5   close   2403 non-null   float64       \n",
      " 6   volume  2403 non-null   int64         \n",
      "dtypes: datetime64[ns](1), float64(4), int64(1), object(1)\n",
      "memory usage: 131.5+ KB\n"
     ]
    }
   ],
   "source": [
    "df.info()"
   ]
  },
  {
   "cell_type": "code",
   "execution_count": 28,
   "metadata": {},
   "outputs": [],
   "source": [
    "data = df[df.symbol == 'Crude Oil']"
   ]
  },
  {
   "cell_type": "code",
   "execution_count": 29,
   "metadata": {},
   "outputs": [],
   "source": [
    "data = data.drop(['symbol'], axis= 1)"
   ]
  },
  {
   "cell_type": "code",
   "execution_count": 30,
   "metadata": {},
   "outputs": [],
   "source": [
    "data_training = data[data['Date']<'2015-01-01'].copy()\n",
    "data_test = data[data['Date']>='2015-01-01'].copy()"
   ]
  },
  {
   "cell_type": "code",
   "execution_count": 32,
   "metadata": {},
   "outputs": [],
   "source": [
    "data_training = data_training.drop(['Date'], axis = 1)\n"
   ]
  },
  {
   "cell_type": "code",
   "execution_count": 33,
   "metadata": {},
   "outputs": [
    {
     "data": {
      "text/plain": [
       "array([[0.98642533, 0.92369232, 0.99117956, 0.9506519 , 0.44372181],\n",
       "       [0.        , 0.        , 0.        , 0.        , 0.        ],\n",
       "       [0.94775808, 0.89923078, 0.97474924, 0.94446276, 0.44074307],\n",
       "       ...,\n",
       "       [0.45290002, 0.42876925, 0.45745419, 0.44239974, 0.36022158],\n",
       "       [0.44195804, 0.41784615, 0.45572468, 0.44660834, 0.32616456],\n",
       "       [0.44319208, 0.41553846, 0.4534763 , 0.43959399, 0.34848869]])"
      ]
     },
     "execution_count": 33,
     "metadata": {},
     "output_type": "execute_result"
    }
   ],
   "source": [
    "scaler = MinMaxScaler()\n",
    "data_training = scaler.fit_transform(data_training)\n",
    "data_training"
   ]
  },
  {
   "cell_type": "code",
   "execution_count": 34,
   "metadata": {},
   "outputs": [],
   "source": [
    "X_train = []\n",
    "y_train = []\n",
    "\n",
    "for i in range(60, data_training.shape[0]):\n",
    "    X_train.append(data_training[i-60:i])\n",
    "    y_train.append(data_training[i, 0])\n",
    "    \n",
    "X_train, y_train = np.array(X_train), np.array(y_train)"
   ]
  },
  {
   "cell_type": "code",
   "execution_count": 35,
   "metadata": {},
   "outputs": [
    {
     "data": {
      "text/plain": [
       "(1886, 60, 5)"
      ]
     },
     "execution_count": 35,
     "metadata": {},
     "output_type": "execute_result"
    }
   ],
   "source": [
    "X_train.shape"
   ]
  },
  {
   "cell_type": "code",
   "execution_count": 36,
   "metadata": {},
   "outputs": [
    {
     "data": {
      "text/plain": [
       "array([[[0.98642533, 0.92369232, 0.99117956, 0.9506519 , 0.44372181],\n",
       "        [0.        , 0.        , 0.        , 0.        , 0.        ],\n",
       "        [0.94775808, 0.89923078, 0.97474924, 0.94446276, 0.44074307],\n",
       "        ...,\n",
       "        [0.64788151, 0.60899998, 0.63602563, 0.61511801, 0.33001334],\n",
       "        [0.6055121 , 0.57307692, 0.59296092, 0.57641523, 0.42247665],\n",
       "        [0.59481696, 0.57153848, 0.60394324, 0.59291961, 0.21177557]],\n",
       "\n",
       "       [[0.        , 0.        , 0.        , 0.        , 0.        ],\n",
       "        [0.94775808, 0.89923078, 0.97474924, 0.94446276, 0.44074307],\n",
       "        [0.94224596, 0.89192305, 0.97120373, 0.93257965, 0.45336392],\n",
       "        ...,\n",
       "        [0.6055121 , 0.57307692, 0.59296092, 0.57641523, 0.42247665],\n",
       "        [0.59481696, 0.57153848, 0.60394324, 0.59291961, 0.21177557],\n",
       "        [0.        , 0.        , 0.        , 0.        , 0.        ]],\n",
       "\n",
       "       [[0.94775808, 0.89923078, 0.97474924, 0.94446276, 0.44074307],\n",
       "        [0.94224596, 0.89192305, 0.97120373, 0.93257965, 0.45336392],\n",
       "        [0.93039896, 0.90353845, 0.97604639, 0.95725367, 0.48198131],\n",
       "        ...,\n",
       "        [0.59481696, 0.57153848, 0.60394324, 0.59291961, 0.21177557],\n",
       "        [0.        , 0.        , 0.        , 0.        , 0.        ],\n",
       "        [0.59366518, 0.58561536, 0.62063298, 0.61272487, 0.2048988 ]],\n",
       "\n",
       "       ...,\n",
       "\n",
       "       [[0.68432742, 0.64961536, 0.71290213, 0.68286846, 0.25988163],\n",
       "        [0.        , 0.        , 0.        , 0.        , 0.        ],\n",
       "        [0.68391604, 0.64215387, 0.70520584, 0.68253836, 0.12491307],\n",
       "        ...,\n",
       "        [0.        , 0.        , 0.        , 0.        , 0.        ],\n",
       "        [0.45956396, 0.43530769, 0.47137667, 0.45164219, 0.1898305 ],\n",
       "        [0.        , 0.        , 0.        , 0.        , 0.        ]],\n",
       "\n",
       "       [[0.        , 0.        , 0.        , 0.        , 0.        ],\n",
       "        [0.68391604, 0.64215387, 0.70520584, 0.68253836, 0.12491307],\n",
       "        [0.68087207, 0.64653848, 0.711605  , 0.68336357, 0.44400835],\n",
       "        ...,\n",
       "        [0.45956396, 0.43530769, 0.47137667, 0.45164219, 0.1898305 ],\n",
       "        [0.        , 0.        , 0.        , 0.        , 0.        ],\n",
       "        [0.45290002, 0.42876925, 0.45745419, 0.44239974, 0.36022158]],\n",
       "\n",
       "       [[0.68391604, 0.64215387, 0.70520584, 0.68253836, 0.12491307],\n",
       "        [0.68087207, 0.64653848, 0.711605  , 0.68336357, 0.44400835],\n",
       "        [0.67914439, 0.6396154 , 0.69370462, 0.66446606, 0.52563268],\n",
       "        ...,\n",
       "        [0.        , 0.        , 0.        , 0.        , 0.        ],\n",
       "        [0.45290002, 0.42876925, 0.45745419, 0.44239974, 0.36022158],\n",
       "        [0.44195804, 0.41784615, 0.45572468, 0.44660834, 0.32616456]]])"
      ]
     },
     "execution_count": 36,
     "metadata": {},
     "output_type": "execute_result"
    }
   ],
   "source": [
    "X_train"
   ]
  },
  {
   "cell_type": "code",
   "execution_count": 37,
   "metadata": {},
   "outputs": [],
   "source": [
    "from tensorflow.keras import Sequential\n",
    "from tensorflow.keras.layers import Dense, LSTM, Dropout"
   ]
  },
  {
   "cell_type": "code",
   "execution_count": 38,
   "metadata": {},
   "outputs": [],
   "source": [
    "regressor = Sequential()\n",
    "\n",
    "regressor.add(LSTM(units = 60, activation = 'relu', return_sequences = True, input_shape = (X_train.shape[1], 5)))\n",
    "regressor.add(Dropout(0.2))\n",
    "\n",
    "regressor.add(LSTM(units = 60, activation = 'relu', return_sequences = True))\n",
    "regressor.add(Dropout(0.2))\n",
    "\n",
    "regressor.add(LSTM(units = 80, activation = 'relu', return_sequences = True))\n",
    "regressor.add(Dropout(0.2))\n",
    "\n",
    "regressor.add(LSTM(units = 120, activation = 'relu'))\n",
    "regressor.add(Dropout(0.2))\n",
    "\n",
    "regressor.add(Dense(units = 1))"
   ]
  },
  {
   "cell_type": "code",
   "execution_count": 39,
   "metadata": {},
   "outputs": [
    {
     "name": "stdout",
     "output_type": "stream",
     "text": [
      "Model: \"sequential\"\n",
      "_________________________________________________________________\n",
      "Layer (type)                 Output Shape              Param #   \n",
      "=================================================================\n",
      "lstm (LSTM)                  (None, 60, 60)            15840     \n",
      "_________________________________________________________________\n",
      "dropout (Dropout)            (None, 60, 60)            0         \n",
      "_________________________________________________________________\n",
      "lstm_1 (LSTM)                (None, 60, 60)            29040     \n",
      "_________________________________________________________________\n",
      "dropout_1 (Dropout)          (None, 60, 60)            0         \n",
      "_________________________________________________________________\n",
      "lstm_2 (LSTM)                (None, 60, 80)            45120     \n",
      "_________________________________________________________________\n",
      "dropout_2 (Dropout)          (None, 60, 80)            0         \n",
      "_________________________________________________________________\n",
      "lstm_3 (LSTM)                (None, 120)               96480     \n",
      "_________________________________________________________________\n",
      "dropout_3 (Dropout)          (None, 120)               0         \n",
      "_________________________________________________________________\n",
      "dense (Dense)                (None, 1)                 121       \n",
      "=================================================================\n",
      "Total params: 186,601\n",
      "Trainable params: 186,601\n",
      "Non-trainable params: 0\n",
      "_________________________________________________________________\n"
     ]
    }
   ],
   "source": [
    "regressor.summary()"
   ]
  },
  {
   "cell_type": "code",
   "execution_count": 40,
   "metadata": {},
   "outputs": [
    {
     "name": "stdout",
     "output_type": "stream",
     "text": [
      "Train on 1886 samples\n",
      "Epoch 1/50\n",
      "1886/1886 [==============================] - 11s 6ms/sample - loss: 0.1198\n",
      "Epoch 2/50\n",
      "1886/1886 [==============================] - 6s 3ms/sample - loss: 0.0824\n",
      "Epoch 3/50\n",
      "1886/1886 [==============================] - 6s 3ms/sample - loss: 0.0854\n",
      "Epoch 4/50\n",
      "1886/1886 [==============================] - 6s 3ms/sample - loss: 0.0845\n",
      "Epoch 5/50\n",
      "1886/1886 [==============================] - 6s 3ms/sample - loss: 0.0839\n",
      "Epoch 6/50\n",
      "1886/1886 [==============================] - 6s 3ms/sample - loss: 0.0829\n",
      "Epoch 7/50\n",
      "1886/1886 [==============================] - 7s 4ms/sample - loss: 0.0817\n",
      "Epoch 8/50\n",
      "1886/1886 [==============================] - 6s 3ms/sample - loss: 0.0814\n",
      "Epoch 9/50\n",
      "1886/1886 [==============================] - 7s 4ms/sample - loss: 0.0818\n",
      "Epoch 10/50\n",
      "1886/1886 [==============================] - 6s 3ms/sample - loss: 0.0819\n",
      "Epoch 11/50\n",
      "1886/1886 [==============================] - 7s 3ms/sample - loss: 0.0813\n",
      "Epoch 12/50\n",
      "1886/1886 [==============================] - 6s 3ms/sample - loss: 0.0806\n",
      "Epoch 13/50\n",
      "1886/1886 [==============================] - 6s 3ms/sample - loss: 0.0808\n",
      "Epoch 14/50\n",
      "1886/1886 [==============================] - 7s 3ms/sample - loss: 0.0806\n",
      "Epoch 15/50\n",
      "1886/1886 [==============================] - 6s 3ms/sample - loss: 0.0827\n",
      "Epoch 16/50\n",
      "1886/1886 [==============================] - 7s 3ms/sample - loss: 0.0808\n",
      "Epoch 17/50\n",
      "1886/1886 [==============================] - 7s 3ms/sample - loss: 0.0818\n",
      "Epoch 18/50\n",
      "1886/1886 [==============================] - 7s 4ms/sample - loss: 0.0812\n",
      "Epoch 19/50\n",
      "1886/1886 [==============================] - 6s 3ms/sample - loss: 0.0804\n",
      "Epoch 20/50\n",
      "1886/1886 [==============================] - 6s 3ms/sample - loss: 0.0810\n",
      "Epoch 21/50\n",
      "1886/1886 [==============================] - 7s 3ms/sample - loss: 0.0791\n",
      "Epoch 22/50\n",
      "1886/1886 [==============================] - 6s 3ms/sample - loss: 0.0797\n",
      "Epoch 23/50\n",
      "1886/1886 [==============================] - 6s 3ms/sample - loss: 0.0797\n",
      "Epoch 24/50\n",
      "1886/1886 [==============================] - 7s 4ms/sample - loss: 0.0808\n",
      "Epoch 25/50\n",
      "1886/1886 [==============================] - 7s 3ms/sample - loss: 0.0744\n",
      "Epoch 26/50\n",
      "1886/1886 [==============================] - 7s 4ms/sample - loss: 0.0654\n",
      "Epoch 27/50\n",
      "1886/1886 [==============================] - 6s 3ms/sample - loss: 0.0596\n",
      "Epoch 28/50\n",
      "1886/1886 [==============================] - 7s 3ms/sample - loss: 0.0529\n",
      "Epoch 29/50\n",
      "1886/1886 [==============================] - 7s 4ms/sample - loss: 0.0482\n",
      "Epoch 30/50\n",
      "1886/1886 [==============================] - 7s 3ms/sample - loss: 0.0411\n",
      "Epoch 31/50\n",
      "1886/1886 [==============================] - 7s 4ms/sample - loss: 0.0392\n",
      "Epoch 32/50\n",
      "1886/1886 [==============================] - 7s 4ms/sample - loss: 0.0315\n",
      "Epoch 33/50\n",
      "1886/1886 [==============================] - 7s 4ms/sample - loss: 0.0301\n",
      "Epoch 34/50\n",
      "1886/1886 [==============================] - 7s 3ms/sample - loss: 0.0306\n",
      "Epoch 35/50\n",
      "1886/1886 [==============================] - 7s 3ms/sample - loss: 0.0281\n",
      "Epoch 36/50\n",
      "1886/1886 [==============================] - 7s 4ms/sample - loss: 0.0254\n",
      "Epoch 37/50\n",
      "1886/1886 [==============================] - 7s 4ms/sample - loss: 0.0250\n",
      "Epoch 38/50\n",
      "1886/1886 [==============================] - 7s 4ms/sample - loss: 0.0253\n",
      "Epoch 39/50\n",
      "1886/1886 [==============================] - 7s 4ms/sample - loss: 0.0248\n",
      "Epoch 40/50\n",
      "1886/1886 [==============================] - 7s 4ms/sample - loss: 0.0237\n",
      "Epoch 41/50\n",
      "1886/1886 [==============================] - 7s 4ms/sample - loss: 0.0229\n",
      "Epoch 42/50\n",
      "1886/1886 [==============================] - 7s 4ms/sample - loss: 0.0227\n",
      "Epoch 43/50\n",
      "1886/1886 [==============================] - 7s 4ms/sample - loss: 0.0233\n",
      "Epoch 44/50\n",
      "1886/1886 [==============================] - 7s 4ms/sample - loss: 0.0224\n",
      "Epoch 45/50\n",
      "1886/1886 [==============================] - 7s 4ms/sample - loss: 0.0232\n",
      "Epoch 46/50\n",
      "1886/1886 [==============================] - 7s 4ms/sample - loss: 0.0216\n",
      "Epoch 47/50\n",
      "1886/1886 [==============================] - 7s 4ms/sample - loss: 0.0216\n",
      "Epoch 48/50\n",
      "1886/1886 [==============================] - 7s 4ms/sample - loss: 0.0214\n",
      "Epoch 49/50\n",
      "1886/1886 [==============================] - 7s 4ms/sample - loss: 0.0220\n",
      "Epoch 50/50\n",
      "1886/1886 [==============================] - 7s 4ms/sample - loss: 0.0210\n"
     ]
    },
    {
     "data": {
      "text/plain": [
       "<tensorflow.python.keras.callbacks.History at 0x1a8d6614a88>"
      ]
     },
     "execution_count": 40,
     "metadata": {},
     "output_type": "execute_result"
    }
   ],
   "source": [
    "regressor.compile(optimizer='adam', loss = 'mean_squared_error')\n",
    "regressor.fit(X_train, y_train, epochs=50, batch_size=32)"
   ]
  },
  {
   "cell_type": "code",
   "execution_count": 41,
   "metadata": {},
   "outputs": [
    {
     "data": {
      "text/html": [
       "<div>\n",
       "<style scoped>\n",
       "    .dataframe tbody tr th:only-of-type {\n",
       "        vertical-align: middle;\n",
       "    }\n",
       "\n",
       "    .dataframe tbody tr th {\n",
       "        vertical-align: top;\n",
       "    }\n",
       "\n",
       "    .dataframe thead th {\n",
       "        text-align: right;\n",
       "    }\n",
       "</style>\n",
       "<table border=\"1\" class=\"dataframe\">\n",
       "  <thead>\n",
       "    <tr style=\"text-align: right;\">\n",
       "      <th></th>\n",
       "      <th>Date</th>\n",
       "      <th>open</th>\n",
       "      <th>high</th>\n",
       "      <th>low</th>\n",
       "      <th>close</th>\n",
       "      <th>volume</th>\n",
       "    </tr>\n",
       "  </thead>\n",
       "  <tbody>\n",
       "    <tr>\n",
       "      <th>1946</th>\n",
       "      <td>2015-01-02</td>\n",
       "      <td>53.759998</td>\n",
       "      <td>55.110001</td>\n",
       "      <td>52.029999</td>\n",
       "      <td>52.689999</td>\n",
       "      <td>268708</td>\n",
       "    </tr>\n",
       "    <tr>\n",
       "      <th>1947</th>\n",
       "      <td>2015-01-04</td>\n",
       "      <td>0.000000</td>\n",
       "      <td>0.000000</td>\n",
       "      <td>0.000000</td>\n",
       "      <td>0.000000</td>\n",
       "      <td>0</td>\n",
       "    </tr>\n",
       "    <tr>\n",
       "      <th>1948</th>\n",
       "      <td>2015-01-05</td>\n",
       "      <td>52.610001</td>\n",
       "      <td>52.730000</td>\n",
       "      <td>49.680000</td>\n",
       "      <td>50.040001</td>\n",
       "      <td>375782</td>\n",
       "    </tr>\n",
       "    <tr>\n",
       "      <th>1949</th>\n",
       "      <td>2015-01-06</td>\n",
       "      <td>50.000000</td>\n",
       "      <td>50.369999</td>\n",
       "      <td>47.549999</td>\n",
       "      <td>47.930000</td>\n",
       "      <td>451642</td>\n",
       "    </tr>\n",
       "    <tr>\n",
       "      <th>1950</th>\n",
       "      <td>2015-01-07</td>\n",
       "      <td>48.000000</td>\n",
       "      <td>49.310001</td>\n",
       "      <td>46.830002</td>\n",
       "      <td>48.650002</td>\n",
       "      <td>460083</td>\n",
       "    </tr>\n",
       "  </tbody>\n",
       "</table>\n",
       "</div>"
      ],
      "text/plain": [
       "           Date       open       high        low      close  volume\n",
       "1946 2015-01-02  53.759998  55.110001  52.029999  52.689999  268708\n",
       "1947 2015-01-04   0.000000   0.000000   0.000000   0.000000       0\n",
       "1948 2015-01-05  52.610001  52.730000  49.680000  50.040001  375782\n",
       "1949 2015-01-06  50.000000  50.369999  47.549999  47.930000  451642\n",
       "1950 2015-01-07  48.000000  49.310001  46.830002  48.650002  460083"
      ]
     },
     "execution_count": 41,
     "metadata": {},
     "output_type": "execute_result"
    }
   ],
   "source": [
    "data_test.head()"
   ]
  },
  {
   "cell_type": "code",
   "execution_count": 42,
   "metadata": {},
   "outputs": [],
   "source": [
    "data_training1 = data[data['Date']<'2015-01-01'].copy()\n"
   ]
  },
  {
   "cell_type": "code",
   "execution_count": 43,
   "metadata": {},
   "outputs": [],
   "source": [
    "past_60_days = data_training1.tail(60)"
   ]
  },
  {
   "cell_type": "code",
   "execution_count": 44,
   "metadata": {},
   "outputs": [
    {
     "data": {
      "text/html": [
       "<div>\n",
       "<style scoped>\n",
       "    .dataframe tbody tr th:only-of-type {\n",
       "        vertical-align: middle;\n",
       "    }\n",
       "\n",
       "    .dataframe tbody tr th {\n",
       "        vertical-align: top;\n",
       "    }\n",
       "\n",
       "    .dataframe thead th {\n",
       "        text-align: right;\n",
       "    }\n",
       "</style>\n",
       "<table border=\"1\" class=\"dataframe\">\n",
       "  <thead>\n",
       "    <tr style=\"text-align: right;\">\n",
       "      <th></th>\n",
       "      <th>open</th>\n",
       "      <th>high</th>\n",
       "      <th>low</th>\n",
       "      <th>close</th>\n",
       "      <th>volume</th>\n",
       "    </tr>\n",
       "  </thead>\n",
       "  <tbody>\n",
       "    <tr>\n",
       "      <th>0</th>\n",
       "      <td>82.760002</td>\n",
       "      <td>84.050003</td>\n",
       "      <td>82.290001</td>\n",
       "      <td>82.809998</td>\n",
       "      <td>297522</td>\n",
       "    </tr>\n",
       "    <tr>\n",
       "      <th>1</th>\n",
       "      <td>82.550003</td>\n",
       "      <td>83.150002</td>\n",
       "      <td>80.220001</td>\n",
       "      <td>80.519997</td>\n",
       "      <td>352217</td>\n",
       "    </tr>\n",
       "    <tr>\n",
       "      <th>2</th>\n",
       "      <td>80.419998</td>\n",
       "      <td>82.370003</td>\n",
       "      <td>80.050003</td>\n",
       "      <td>82.089996</td>\n",
       "      <td>354839</td>\n",
       "    </tr>\n",
       "    <tr>\n",
       "      <th>3</th>\n",
       "      <td>81.949997</td>\n",
       "      <td>81.949997</td>\n",
       "      <td>80.360001</td>\n",
       "      <td>81.010002</td>\n",
       "      <td>272509</td>\n",
       "    </tr>\n",
       "    <tr>\n",
       "      <th>4</th>\n",
       "      <td>0.000000</td>\n",
       "      <td>0.000000</td>\n",
       "      <td>0.000000</td>\n",
       "      <td>0.000000</td>\n",
       "      <td>0</td>\n",
       "    </tr>\n",
       "  </tbody>\n",
       "</table>\n",
       "</div>"
      ],
      "text/plain": [
       "        open       high        low      close  volume\n",
       "0  82.760002  84.050003  82.290001  82.809998  297522\n",
       "1  82.550003  83.150002  80.220001  80.519997  352217\n",
       "2  80.419998  82.370003  80.050003  82.089996  354839\n",
       "3  81.949997  81.949997  80.360001  81.010002  272509\n",
       "4   0.000000   0.000000   0.000000   0.000000       0"
      ]
     },
     "execution_count": 44,
     "metadata": {},
     "output_type": "execute_result"
    }
   ],
   "source": [
    "df = past_60_days.append(data_test, ignore_index = True)\n",
    "df = df.drop(['Date'], axis = 1)\n",
    "df.head()"
   ]
  },
  {
   "cell_type": "code",
   "execution_count": 45,
   "metadata": {},
   "outputs": [
    {
     "data": {
      "text/plain": [
       "array([[0.68087207, 0.64653848, 0.711605  , 0.68336357, 0.44400835],\n",
       "       [0.67914439, 0.6396154 , 0.69370462, 0.66446606, 0.52563268],\n",
       "       [0.6616207 , 0.63361541, 0.69223455, 0.67742198, 0.52954564],\n",
       "       ...,\n",
       "       [0.38329904, 0.37061538, 0.40245591, 0.39486712, 0.74446262],\n",
       "       [0.39539284, 0.38461538, 0.41490834, 0.41161909, 0.7633036 ],\n",
       "       [0.40765115, 0.3816923 , 0.41655135, 0.39882821, 0.75921454]])"
      ]
     },
     "execution_count": 45,
     "metadata": {},
     "output_type": "execute_result"
    }
   ],
   "source": [
    "inputs = scaler.transform(df)\n",
    "inputs"
   ]
  },
  {
   "cell_type": "code",
   "execution_count": 46,
   "metadata": {},
   "outputs": [
    {
     "data": {
      "text/plain": [
       "((457, 60, 5), (457,))"
      ]
     },
     "execution_count": 46,
     "metadata": {},
     "output_type": "execute_result"
    }
   ],
   "source": [
    "X_test = []\n",
    "y_test = []\n",
    "\n",
    "for i in range(60, inputs.shape[0]):\n",
    "    X_test.append(inputs[i-60:i])\n",
    "    y_test.append(inputs[i, 0])\n",
    "\n",
    "X_test, y_test = np.array(X_test), np.array(y_test)\n",
    "X_test.shape, y_test.shape"
   ]
  },
  {
   "cell_type": "code",
   "execution_count": 47,
   "metadata": {},
   "outputs": [],
   "source": [
    "y_pred = regressor.predict(X_test)"
   ]
  },
  {
   "cell_type": "code",
   "execution_count": 48,
   "metadata": {},
   "outputs": [
    {
     "data": {
      "text/plain": [
       "array([8.22706685e-03, 7.69230769e-03, 8.64752688e-03, 8.25218683e-03,\n",
       "       1.49235467e-06])"
      ]
     },
     "execution_count": 48,
     "metadata": {},
     "output_type": "execute_result"
    }
   ],
   "source": [
    "scaler.scale_"
   ]
  },
  {
   "cell_type": "code",
   "execution_count": 49,
   "metadata": {},
   "outputs": [
    {
     "data": {
      "text/plain": [
       "121.55000296369293"
      ]
     },
     "execution_count": 49,
     "metadata": {},
     "output_type": "execute_result"
    }
   ],
   "source": [
    "scale = 1/8.22706685e-03\n",
    "scale"
   ]
  },
  {
   "cell_type": "code",
   "execution_count": 50,
   "metadata": {},
   "outputs": [],
   "source": [
    "y_pred = y_pred*scale\n",
    "y_test = y_test*scale"
   ]
  },
  {
   "cell_type": "code",
   "execution_count": 52,
   "metadata": {},
   "outputs": [],
   "source": [
    "from sklearn.metrics import mean_absolute_error as mae\n",
    "from sklearn.metrics import r2_score\n"
   ]
  },
  {
   "cell_type": "code",
   "execution_count": 53,
   "metadata": {},
   "outputs": [
    {
     "name": "stdout",
     "output_type": "stream",
     "text": [
      "Training Mean Absolute Error 7.675155558627326\n"
     ]
    }
   ],
   "source": [
    "k = mae(y_pred, y_test)\n",
    "print('Training Mean Absolute Error', k )"
   ]
  },
  {
   "cell_type": "code",
   "execution_count": 54,
   "metadata": {},
   "outputs": [
    {
     "data": {
      "text/plain": [
       "0.7214529141989481"
      ]
     },
     "execution_count": 54,
     "metadata": {},
     "output_type": "execute_result"
    }
   ],
   "source": [
    "sklearn.metrics.r2_score(y_test, y_pred)"
   ]
  },
  {
   "cell_type": "code",
   "execution_count": 58,
   "metadata": {},
   "outputs": [
    {
     "data": {
      "text/plain": [
       "99.46944446541629"
      ]
     },
     "execution_count": 58,
     "metadata": {},
     "output_type": "execute_result"
    }
   ],
   "source": [
    "from sklearn.metrics import mean_squared_error\n",
    "mse=mean_squared_error(y_test, y_pred)\n",
    "mse"
   ]
  },
  {
   "cell_type": "code",
   "execution_count": 60,
   "metadata": {},
   "outputs": [
    {
     "data": {
      "text/plain": [
       "9.97343694347221"
      ]
     },
     "execution_count": 60,
     "metadata": {},
     "output_type": "execute_result"
    }
   ],
   "source": [
    "#RMSE\n",
    "Rmse=np.sqrt(mse)\n",
    "Rmse"
   ]
  },
  {
   "cell_type": "code",
   "execution_count": 61,
   "metadata": {},
   "outputs": [
    {
     "data": {
      "text/plain": [
       "0.7214529141989481"
      ]
     },
     "execution_count": 61,
     "metadata": {},
     "output_type": "execute_result"
    }
   ],
   "source": [
    "# adjusted r2\n",
    "var_test = y_test.var()\n",
    "var_test\n",
    "Adj_rsquare = 1-(mse/var_test)\n",
    "Adj_rsquare"
   ]
  }
 ],
 "metadata": {
  "kernelspec": {
   "display_name": "Python 3",
   "language": "python",
   "name": "python3"
  },
  "language_info": {
   "codemirror_mode": {
    "name": "ipython",
    "version": 3
   },
   "file_extension": ".py",
   "mimetype": "text/x-python",
   "name": "python",
   "nbconvert_exporter": "python",
   "pygments_lexer": "ipython3",
   "version": "3.7.7"
  },
  "toc": {
   "base_numbering": 1,
   "nav_menu": {},
   "number_sections": true,
   "sideBar": true,
   "skip_h1_title": false,
   "title_cell": "Table of Contents",
   "title_sidebar": "Contents",
   "toc_cell": true,
   "toc_position": {},
   "toc_section_display": true,
   "toc_window_display": false
  }
 },
 "nbformat": 4,
 "nbformat_minor": 4
}
